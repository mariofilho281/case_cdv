{
 "cells": [
  {
   "cell_type": "code",
   "id": "initial_id",
   "metadata": {
    "collapsed": true,
    "ExecuteTime": {
     "end_time": "2025-09-18T12:55:43.163400Z",
     "start_time": "2025-09-18T12:55:41.613104Z"
    }
   },
   "source": [
    "import requests\n",
    "import geopandas"
   ],
   "outputs": [],
   "execution_count": 1
  },
  {
   "metadata": {
    "ExecuteTime": {
     "end_time": "2025-09-18T12:55:45.401437Z",
     "start_time": "2025-09-18T12:55:43.209006Z"
    }
   },
   "cell_type": "code",
   "source": [
    "url = 'https://sigel.aneel.gov.br/arcgis/rest/services/PORTAL/WFS/MapServer/0/query'\n",
    "parameters = {'where': '1=1', 'outFields': '*', 'f': 'geojson'}\n",
    "response = requests.post(url, data=parameters).json() #TODO: post vs get?\n",
    "field_aliases = requests.post(url, data={'where': '1=1', 'outFields': '*', 'f': 'pjson'}).json()['fieldAliases']\n",
    "data = geopandas.GeoDataFrame.from_features(response['features'])"
   ],
   "id": "b9493d5ca591bc74",
   "outputs": [],
   "execution_count": 2
  },
  {
   "metadata": {
    "ExecuteTime": {
     "end_time": "2025-09-18T12:55:45.782347Z",
     "start_time": "2025-09-18T12:55:45.772019Z"
    }
   },
   "cell_type": "code",
   "source": "data['lat'], data['long'] = data['geometry'].y, data['geometry'].x",
   "id": "4ee1f5ccfe172b66",
   "outputs": [],
   "execution_count": 3
  },
  {
   "metadata": {
    "ExecuteTime": {
     "end_time": "2025-09-18T12:55:45.843061Z",
     "start_time": "2025-09-18T12:55:45.826281Z"
    }
   },
   "cell_type": "code",
   "source": [
    "print(data['DATUM_EMP'].value_counts())\n",
    "print(data['FUSO_AG'].unique())\n",
    "print(data['PROPRIETARIO'].unique().shape)"
   ],
   "id": "b2961de29c6547e4",
   "outputs": [
    {
     "name": "stdout",
     "output_type": "stream",
     "text": [
      "DATUM_EMP\n",
      "SIRGAS2000    809\n",
      "SAD69         143\n",
      "WGS84          48\n",
      "Name: count, dtype: int64\n",
      "['UTM 23 S (MER -45)' 'UTM 25 S (MER -33)' 'UTM 24 S (MER -39)'\n",
      " 'UTM 21 S (MER -57)' 'UTM 22 S (MER -51)']\n",
      "(319,)\n"
     ]
    }
   ],
   "execution_count": 4
  },
  {
   "metadata": {
    "ExecuteTime": {
     "end_time": "2025-09-18T12:56:55.713648Z",
     "start_time": "2025-09-18T12:56:55.625581Z"
    }
   },
   "cell_type": "code",
   "source": "data.to_csv('./out.csv')",
   "id": "ab856793816d7d3a",
   "outputs": [],
   "execution_count": 6
  }
 ],
 "metadata": {
  "kernelspec": {
   "display_name": "Python 3",
   "language": "python",
   "name": "python3"
  },
  "language_info": {
   "codemirror_mode": {
    "name": "ipython",
    "version": 2
   },
   "file_extension": ".py",
   "mimetype": "text/x-python",
   "name": "python",
   "nbconvert_exporter": "python",
   "pygments_lexer": "ipython2",
   "version": "2.7.6"
  }
 },
 "nbformat": 4,
 "nbformat_minor": 5
}
